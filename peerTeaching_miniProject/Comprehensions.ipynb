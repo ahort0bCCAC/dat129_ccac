{
 "cells": [
  {
   "cell_type": "code",
   "execution_count": 60,
   "metadata": {
    "collapsed": true
   },
   "outputs": [
    {
     "data": {
      "text/plain": [
       "\" --- List Comprehensions ---\\nList comprehensions are a concise way to make a list from an object \\nwhere you might otherwise use a for loop.\\nThe object can be a string, tuple, another list, etc.\\n\\nA list comprehension looks like this:\\nlist_variable = [x for x in object optional conditions]\\n\\nLet's look at some examples. \""
      ]
     },
     "execution_count": 60,
     "metadata": {},
     "output_type": "execute_result"
    }
   ],
   "source": [
    "# --- List Comprehensions ---\n",
    "# List comprehensions are a concise way to make a list from an object \n",
    "# where you might otherwise use a for loop.\n",
    "# The object can be a string, tuple, another list, etc.\n",
    "\n",
    "# A list comprehension looks like this:\n",
    "# list_variable = [x for x in object optional conditions]\n",
    "\n",
    "# Let's look at some examples."
   ]
  },
  {
   "cell_type": "code",
   "execution_count": 37,
   "metadata": {
    "collapsed": true
   },
   "outputs": [
    {
     "name": "stdout",
     "output_type": "stream",
     "text": [
      "['H', 'e', 'l', 'l', 'o', ' ', 'W', 'o', 'r', 'l', 'd', '!']\n"
     ]
    }
   ],
   "source": [
    "# Here we are using a list comprehension to loop through a string \n",
    "# and add each character as an elemenet in a list.\n",
    "\n",
    "lc_string = [x for x in 'Hello World!']\n",
    "\n",
    "print (lc_string)"
   ]
  },
  {
   "cell_type": "code",
   "execution_count": 38,
   "metadata": {
    "collapsed": true
   },
   "outputs": [
    {
     "name": "stdout",
     "output_type": "stream",
     "text": [
      "['H', 'e', 'l', 'l', 'o', ' ', 'W', 'o', 'r', 'l', 'd', '!']\n"
     ]
    }
   ],
   "source": [
    "# If we wrote the above as a for loop it would look like this\n",
    "\n",
    "string_letters = [ ]\n",
    "\n",
    "for letter in 'Hello World!':\n",
    "    string_letters.append(letter)\n",
    "\n",
    "print (string_letters)\n",
    "\n",
    "# As you can see list comprehension used one line of code\n",
    "# to perform the task of three lines in a for loop"
   ]
  },
  {
   "cell_type": "code",
   "execution_count": 39,
   "metadata": {
    "collapsed": true
   },
   "outputs": [
    {
     "name": "stdout",
     "output_type": "stream",
     "text": [
      "[1, 2, 3, 4, 5, 6, 7, 8, 9, 10]\n"
     ]
    }
   ],
   "source": [
    "# here we are using a list comprehension to loop through \n",
    "# a range of 10 numbers and add each number as an element in a list\n",
    "\n",
    "lc_numbers = [i for i in range(1, 11)]\n",
    "\n",
    "print (lc_numbers)"
   ]
  },
  {
   "cell_type": "code",
   "execution_count": 40,
   "metadata": {},
   "outputs": [],
   "source": [
    "# Now let's add some conditions to our list comprehensions"
   ]
  },
  {
   "cell_type": "code",
   "execution_count": 41,
   "metadata": {
    "collapsed": true
   },
   "outputs": [
    {
     "name": "stdout",
     "output_type": "stream",
     "text": [
      "[2, 4, 6, 8, 10]\n"
     ]
    }
   ],
   "source": [
    "# Here we will iterate through 10 numbers\n",
    "# and add them to a list only if they are even.\n",
    "\n",
    "lc_numbers_even = [i for i in range(1, 11) if i%2 == 0]\n",
    "\n",
    "print (lc_numbers_even)"
   ]
  },
  {
   "cell_type": "code",
   "execution_count": 42,
   "metadata": {
    "collapsed": true
   },
   "outputs": [
    {
     "name": "stdout",
     "output_type": "stream",
     "text": [
      "['cod', 'tilapia', 'flounder']\n"
     ]
    }
   ],
   "source": [
    "# Here is another example of conditions\n",
    "# let's get a new list of fish, without fish that start with an 's'\n",
    "\n",
    "lc_tuple = ('cod', 'salmon', 'tilapia', 'shrimp', 'flounder')\n",
    "\n",
    "fish_list = [fish for fish in lc_tuple if not fish.startswith('s')]\n",
    "\n",
    "print(fish_list)"
   ]
  },
  {
   "cell_type": "code",
   "execution_count": 43,
   "metadata": {
    "collapsed": true
   },
   "outputs": [
    {
     "name": "stdout",
     "output_type": "stream",
     "text": [
      "[1, 3, 5, 7, 9, 11, 13, 15, 17, 19, 21, 23]\n"
     ]
    }
   ],
   "source": [
    "# try it for yourself:\n",
    "# make this for loop into a list comprehension\n",
    "\n",
    "odd_numbers = []\n",
    "\n",
    "for i in range(1, 25):\n",
    "    if i%2 != 0:\n",
    "        odd_numbers.append(i)\n",
    "\n",
    "print (odd_numbers)"
   ]
  },
  {
   "cell_type": "code",
   "execution_count": 44,
   "metadata": {},
   "outputs": [],
   "source": [
    "# --- Nested Loops in List Comprehensions ---\n",
    "# list comprehensions can be nested"
   ]
  },
  {
   "cell_type": "code",
   "execution_count": 45,
   "metadata": {
    "collapsed": true
   },
   "outputs": [
    {
     "name": "stdout",
     "output_type": "stream",
     "text": [
      "[10, 20, 30, 40, 20, 40, 60, 80, 30, 60, 90, 120, 40, 80, 120, 160]\n"
     ]
    }
   ],
   "source": [
    "# Here's a nested for loop that multiplies \n",
    "# each of the numbers in the first list\n",
    "# by each of the numbers in the second list\n",
    "\n",
    "my_list = []\n",
    "\n",
    "for x in [10, 20, 30, 40]:\n",
    "    for y in [1, 2, 3, 4]:\n",
    "        my_list.append(x * y)\n",
    "\n",
    "print(my_list)"
   ]
  },
  {
   "cell_type": "code",
   "execution_count": 46,
   "metadata": {
    "collapsed": true
   },
   "outputs": [
    {
     "name": "stdout",
     "output_type": "stream",
     "text": [
      "[10, 20, 30, 40, 20, 40, 60, 80, 30, 60, 90, 120, 40, 80, 120, 160]\n"
     ]
    }
   ],
   "source": [
    "# We can accomplish the same task with a list comprehension\n",
    "# using less lines of code.\n",
    "\n",
    "my_list = [x * y for x in [10, 20, 30, 40] for y in [1, 2, 3, 4]]\n",
    "\n",
    "print(my_list)"
   ]
  },
  {
   "cell_type": "code",
   "execution_count": 55,
   "metadata": {
    "collapsed": true
   },
   "outputs": [
    {
     "name": "stdout",
     "output_type": "stream",
     "text": [
      "{1: 1, 2: 4, 3: 9, 4: 16, 5: 25}\n"
     ]
    }
   ],
   "source": [
    "# Now that you've mastered list comprehensions lets look at\n",
    "# --- Dictionary Comprehensions ---\n",
    "\n",
    "# Similar to list comprehensions,the dictionary comprehensions\n",
    "# create a dictionary from an iterable object.\n",
    "# I found these a little harder to understand so let me break it down,\n",
    "# then we'll put it back together\n",
    "\n",
    "# First assign the dictionary name, and open the dictionary\n",
    "\n",
    "#     mydict = {\n",
    "\n",
    "# then the write the desired results of key:value,\n",
    "# here you can simply result a key : value combination,\n",
    "# or you can transform the key and/or value in some way\n",
    "# before storing them in the dictionary.\n",
    "# For example you can change the case of the text, \n",
    "# or like in this example we will square the value.\n",
    "\n",
    "# In this example num is my key and num*num is my value\n",
    "\n",
    "#     num : num*num\n",
    "\n",
    "# Now let's get our keys and values with a for loop,\n",
    "# in this example we'll use a range() function\n",
    "# to get 5 numbers and then we'll close our dictionary\n",
    "\n",
    "#     for num in range(1,6)}\n",
    "\n",
    "# Now, let's put this together and see what it does.\n",
    "\n",
    "mydict = {num : num*num for num in range(1,6)}\n",
    "\n",
    "print(mydict)"
   ]
  },
  {
   "cell_type": "code",
   "execution_count": 48,
   "metadata": {
    "collapsed": true
   },
   "outputs": [
    {
     "name": "stdout",
     "output_type": "stream",
     "text": [
      "{'Apple': 5, 'Orange': 6, 'Banana': 6, 'Strawberry': 10} \n",
      "\n",
      "{'APPLE': 5, 'ORANGE': 6, 'BANANA': 6, 'STRAWBERRY': 10, 'KIWI': 4}\n"
     ]
    }
   ],
   "source": [
    "# Here we have a list of fruits, let use dictionary comprehensions \n",
    "# with a condition. We'll create a dictionary of the fruits as keys\n",
    "# with the length of the fruit name as values however,\n",
    "# we'll only include them in the dictionary if the length is greater than 4 \n",
    "\n",
    "fruits = ['Apple', 'Orange', 'Banana', 'Strawberry', 'Kiwi']\n",
    "\n",
    "fruits_dict = {f:len(f) for f in fruits if len(f) > 4}\n",
    "\n",
    "print(fruits_dict, '\\n')\n",
    "\n",
    "#let's use our fruits again to see how we can transform the key \n",
    "# with our dictionary comprehension. Nnotice this time I've set \n",
    "# the condition to name length greater than zero.\n",
    "\n",
    "fruits_dict_upper = {f.upper() : len(f) for f in fruits if len(f) > 0}\n",
    "\n",
    "print(fruits_dict_upper)"
   ]
  },
  {
   "cell_type": "code",
   "execution_count": 49,
   "metadata": {
    "collapsed": true
   },
   "outputs": [
    {
     "name": "stdout",
     "output_type": "stream",
     "text": [
      "{'Jan': 1, 'Feb': 2, 'Mar': 3, 'Apr': 4, 'May': 5, 'Jun': 6, 'Jul': 7, 'Aug': 8, 'Sep': 9, 'Oct': 10, 'Nov': 11, 'Dec': 12} \n",
      "\n",
      "[('Jan', 1), ('Feb', 2), ('Mar', 3), ('Apr', 4), ('May', 5), ('Jun', 6), ('Jul', 7), ('Aug', 8), ('Sep', 9), ('Oct', 10), ('Nov', 11), ('Dec', 12)]\n"
     ]
    }
   ],
   "source": [
    "# Bonus learning! With the help of the zip function\n",
    "# you can use dictionary comprehension to merge two lists into a dictionary,\n",
    "# using one list as the key and the other as the values.\n",
    "\n",
    "# zip() is a built-in function that pairs the items of iterable objects\n",
    "# together with other items in the same postition of other iterable object\n",
    "\n",
    "keys = ['Jan','Feb','Mar','Apr','May', 'Jun', \n",
    "        'Jul', 'Aug', 'Sep', 'Oct', 'Nov', 'Dec']\n",
    "\n",
    "values = [1, 2, 3, 4, 5, 6, 7, 8, 9, 10, 11, 12]\n",
    "\n",
    "myDict = {k:v for (k,v) in zip(keys, values)}\n",
    "print (myDict,'\\n')\n",
    "\n",
    "#let's see what zip does by it's self\n",
    "\n",
    "zipdict = list(zip(keys, values))\n",
    "\n",
    "print (zipdict)"
   ]
  },
  {
   "cell_type": "code",
   "execution_count": null,
   "metadata": {},
   "outputs": [],
   "source": [
    "# try it for yourself\n",
    "# can you write a dictionary comprehension\n",
    "# where the keys are numbers between 1 and 15 (both included)\n",
    "# and the values are the cube of the keys\n",
    "# for even numbers only?"
   ]
  }
 ],
 "metadata": {
  "kernelspec": {
   "display_name": "Python 3",
   "language": "python",
   "name": "python3"
  },
  "language_info": {
   "codemirror_mode": {
    "name": "ipython",
    "version": 3
   },
   "file_extension": ".py",
   "mimetype": "text/x-python",
   "name": "python",
   "nbconvert_exporter": "python",
   "pygments_lexer": "ipython3",
   "version": "3.8.5"
  }
 },
 "nbformat": 4,
 "nbformat_minor": 4
}
